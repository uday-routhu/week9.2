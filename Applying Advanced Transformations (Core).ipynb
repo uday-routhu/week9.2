{
 "cells": [
  {
   "cell_type": "markdown",
   "id": "e4b8a51e",
   "metadata": {},
   "source": [
    "# Name: Uday Routhu"
   ]
  },
  {
   "cell_type": "markdown",
   "id": "756761cc",
   "metadata": {},
   "source": [
    "### Assginment: Applying Advanced Transformations (Core)"
   ]
  },
  {
   "cell_type": "markdown",
   "id": "deb1bc35",
   "metadata": {},
   "source": [
    "### Imports "
   ]
  },
  {
   "cell_type": "code",
   "execution_count": 34,
   "id": "c8cadce1",
   "metadata": {},
   "outputs": [],
   "source": [
    "## Standard Imports\n",
    "import numpy as np\n",
    "import pandas as pd\n",
    "import matplotlib.pyplot as plt\n",
    "import seaborn as sns\n",
    "## Importing the OS and JSON Modules\n",
    "import os,json"
   ]
  },
  {
   "cell_type": "code",
   "execution_count": 35,
   "id": "2a34d4ac",
   "metadata": {},
   "outputs": [],
   "source": [
    "# Load the superhero_info.csv and superhero_powers.csv files into DataFrames\n",
    "info_df = pd.read_csv('input/superhero_info - superhero_info.csv')\n",
    "powers_df = pd.read_csv('input/superhero_powers - superhero_powers.csv')"
   ]
  },
  {
   "cell_type": "code",
   "execution_count": 36,
   "id": "b8d54de4",
   "metadata": {},
   "outputs": [
    {
     "name": "stdout",
     "output_type": "stream",
     "text": [
      "<class 'pandas.core.frame.DataFrame'>\n",
      "RangeIndex: 463 entries, 0 to 462\n",
      "Data columns (total 8 columns):\n",
      " #   Column          Non-Null Count  Dtype \n",
      "---  ------          --------------  ----- \n",
      " 0   Hero|Publisher  463 non-null    object\n",
      " 1   Gender          463 non-null    object\n",
      " 2   Race            463 non-null    object\n",
      " 3   Alignment       463 non-null    object\n",
      " 4   Hair color      463 non-null    object\n",
      " 5   Eye color       463 non-null    object\n",
      " 6   Skin color      463 non-null    object\n",
      " 7   Measurements    463 non-null    object\n",
      "dtypes: object(8)\n",
      "memory usage: 29.1+ KB\n",
      "<class 'pandas.core.frame.DataFrame'>\n",
      "RangeIndex: 667 entries, 0 to 666\n",
      "Data columns (total 2 columns):\n",
      " #   Column      Non-Null Count  Dtype \n",
      "---  ------      --------------  ----- \n",
      " 0   hero_names  667 non-null    object\n",
      " 1   Powers      667 non-null    object\n",
      "dtypes: object(2)\n",
      "memory usage: 10.5+ KB\n"
     ]
    }
   ],
   "source": [
    "info_df.info()\n",
    "powers_df.info()"
   ]
  },
  {
   "cell_type": "code",
   "execution_count": 37,
   "id": "9bcaa7ec",
   "metadata": {},
   "outputs": [
    {
     "data": {
      "text/html": [
       "<div>\n",
       "<style scoped>\n",
       "    .dataframe tbody tr th:only-of-type {\n",
       "        vertical-align: middle;\n",
       "    }\n",
       "\n",
       "    .dataframe tbody tr th {\n",
       "        vertical-align: top;\n",
       "    }\n",
       "\n",
       "    .dataframe thead th {\n",
       "        text-align: right;\n",
       "    }\n",
       "</style>\n",
       "<table border=\"1\" class=\"dataframe\">\n",
       "  <thead>\n",
       "    <tr style=\"text-align: right;\">\n",
       "      <th></th>\n",
       "      <th>Hero|Publisher</th>\n",
       "      <th>Gender</th>\n",
       "      <th>Race</th>\n",
       "      <th>Alignment</th>\n",
       "      <th>Hair color</th>\n",
       "      <th>Eye color</th>\n",
       "      <th>Skin color</th>\n",
       "      <th>Measurements</th>\n",
       "    </tr>\n",
       "  </thead>\n",
       "  <tbody>\n",
       "    <tr>\n",
       "      <th>0</th>\n",
       "      <td>A-Bomb|Marvel Comics</td>\n",
       "      <td>Male</td>\n",
       "      <td>Human</td>\n",
       "      <td>good</td>\n",
       "      <td>No Hair</td>\n",
       "      <td>yellow</td>\n",
       "      <td>Unknown</td>\n",
       "      <td>{'Height': '203.0 cm', 'Weight': '441.0 kg'}</td>\n",
       "    </tr>\n",
       "    <tr>\n",
       "      <th>1</th>\n",
       "      <td>Abe Sapien|Dark Horse Comics</td>\n",
       "      <td>Male</td>\n",
       "      <td>Icthyo Sapien</td>\n",
       "      <td>good</td>\n",
       "      <td>No Hair</td>\n",
       "      <td>blue</td>\n",
       "      <td>blue</td>\n",
       "      <td>{'Height': '191.0 cm', 'Weight': '65.0 kg'}</td>\n",
       "    </tr>\n",
       "    <tr>\n",
       "      <th>2</th>\n",
       "      <td>Abin Sur|DC Comics</td>\n",
       "      <td>Male</td>\n",
       "      <td>Ungaran</td>\n",
       "      <td>good</td>\n",
       "      <td>No Hair</td>\n",
       "      <td>blue</td>\n",
       "      <td>red</td>\n",
       "      <td>{'Height': '185.0 cm', 'Weight': '90.0 kg'}</td>\n",
       "    </tr>\n",
       "    <tr>\n",
       "      <th>3</th>\n",
       "      <td>Abomination|Marvel Comics</td>\n",
       "      <td>Male</td>\n",
       "      <td>Human / Radiation</td>\n",
       "      <td>bad</td>\n",
       "      <td>No Hair</td>\n",
       "      <td>green</td>\n",
       "      <td>Unknown</td>\n",
       "      <td>{'Height': '203.0 cm', 'Weight': '441.0 kg'}</td>\n",
       "    </tr>\n",
       "    <tr>\n",
       "      <th>4</th>\n",
       "      <td>Absorbing Man|Marvel Comics</td>\n",
       "      <td>Male</td>\n",
       "      <td>Human</td>\n",
       "      <td>bad</td>\n",
       "      <td>No Hair</td>\n",
       "      <td>blue</td>\n",
       "      <td>Unknown</td>\n",
       "      <td>{'Height': '193.0 cm', 'Weight': '122.0 kg'}</td>\n",
       "    </tr>\n",
       "  </tbody>\n",
       "</table>\n",
       "</div>"
      ],
      "text/plain": [
       "                 Hero|Publisher Gender               Race Alignment  \\\n",
       "0          A-Bomb|Marvel Comics   Male              Human      good   \n",
       "1  Abe Sapien|Dark Horse Comics   Male      Icthyo Sapien      good   \n",
       "2            Abin Sur|DC Comics   Male            Ungaran      good   \n",
       "3     Abomination|Marvel Comics   Male  Human / Radiation       bad   \n",
       "4   Absorbing Man|Marvel Comics   Male              Human       bad   \n",
       "\n",
       "  Hair color Eye color Skin color  \\\n",
       "0    No Hair    yellow    Unknown   \n",
       "1    No Hair      blue       blue   \n",
       "2    No Hair      blue        red   \n",
       "3    No Hair     green    Unknown   \n",
       "4    No Hair      blue    Unknown   \n",
       "\n",
       "                                   Measurements  \n",
       "0  {'Height': '203.0 cm', 'Weight': '441.0 kg'}  \n",
       "1   {'Height': '191.0 cm', 'Weight': '65.0 kg'}  \n",
       "2   {'Height': '185.0 cm', 'Weight': '90.0 kg'}  \n",
       "3  {'Height': '203.0 cm', 'Weight': '441.0 kg'}  \n",
       "4  {'Height': '193.0 cm', 'Weight': '122.0 kg'}  "
      ]
     },
     "execution_count": 37,
     "metadata": {},
     "output_type": "execute_result"
    }
   ],
   "source": [
    "info_df.head()"
   ]
  },
  {
   "cell_type": "code",
   "execution_count": 38,
   "id": "80d56db0",
   "metadata": {},
   "outputs": [
    {
     "data": {
      "text/html": [
       "<div>\n",
       "<style scoped>\n",
       "    .dataframe tbody tr th:only-of-type {\n",
       "        vertical-align: middle;\n",
       "    }\n",
       "\n",
       "    .dataframe tbody tr th {\n",
       "        vertical-align: top;\n",
       "    }\n",
       "\n",
       "    .dataframe thead th {\n",
       "        text-align: right;\n",
       "    }\n",
       "</style>\n",
       "<table border=\"1\" class=\"dataframe\">\n",
       "  <thead>\n",
       "    <tr style=\"text-align: right;\">\n",
       "      <th></th>\n",
       "      <th>hero_names</th>\n",
       "      <th>Powers</th>\n",
       "    </tr>\n",
       "  </thead>\n",
       "  <tbody>\n",
       "    <tr>\n",
       "      <th>0</th>\n",
       "      <td>3-D Man</td>\n",
       "      <td>Agility,Super Strength,Stamina,Super Speed</td>\n",
       "    </tr>\n",
       "    <tr>\n",
       "      <th>1</th>\n",
       "      <td>A-Bomb</td>\n",
       "      <td>Accelerated Healing,Durability,Longevity,Super...</td>\n",
       "    </tr>\n",
       "    <tr>\n",
       "      <th>2</th>\n",
       "      <td>Abe Sapien</td>\n",
       "      <td>Agility,Accelerated Healing,Cold Resistance,Du...</td>\n",
       "    </tr>\n",
       "    <tr>\n",
       "      <th>3</th>\n",
       "      <td>Abin Sur</td>\n",
       "      <td>Lantern Power Ring</td>\n",
       "    </tr>\n",
       "    <tr>\n",
       "      <th>4</th>\n",
       "      <td>Abomination</td>\n",
       "      <td>Accelerated Healing,Intelligence,Super Strengt...</td>\n",
       "    </tr>\n",
       "  </tbody>\n",
       "</table>\n",
       "</div>"
      ],
      "text/plain": [
       "    hero_names                                             Powers\n",
       "0      3-D Man         Agility,Super Strength,Stamina,Super Speed\n",
       "1       A-Bomb  Accelerated Healing,Durability,Longevity,Super...\n",
       "2   Abe Sapien  Agility,Accelerated Healing,Cold Resistance,Du...\n",
       "3     Abin Sur                                 Lantern Power Ring\n",
       "4  Abomination  Accelerated Healing,Intelligence,Super Strengt..."
      ]
     },
     "execution_count": 38,
     "metadata": {},
     "output_type": "execute_result"
    }
   ],
   "source": [
    "powers_df.head()"
   ]
  },
  {
   "cell_type": "code",
   "execution_count": 39,
   "id": "d7534def",
   "metadata": {},
   "outputs": [],
   "source": [
    "# Split the \"Hero|Publisher\" column into \"Hero\" and \"Publisher\" columns\n",
    "info_df[['Hero', 'Publisher']] = info_df['Hero|Publisher'].str.split('|', expand=True)"
   ]
  },
  {
   "cell_type": "code",
   "execution_count": 41,
   "id": "25f0d152",
   "metadata": {},
   "outputs": [],
   "source": [
    "info_df.rename(columns={'Hero': 'hero_names'}, inplace=True)"
   ]
  },
  {
   "cell_type": "code",
   "execution_count": 42,
   "id": "dd912a7b",
   "metadata": {},
   "outputs": [],
   "source": [
    "# Merge the DataFrames on the 'Name' column to combine the information\n",
    "merged_df = info_df.merge(powers_df, on='hero_names', how='left')"
   ]
  },
  {
   "cell_type": "code",
   "execution_count": 43,
   "id": "4dd4fb06",
   "metadata": {},
   "outputs": [
    {
     "name": "stdout",
     "output_type": "stream",
     "text": [
      "<class 'pandas.core.frame.DataFrame'>\n",
      "Int64Index: 463 entries, 0 to 462\n",
      "Data columns (total 11 columns):\n",
      " #   Column          Non-Null Count  Dtype \n",
      "---  ------          --------------  ----- \n",
      " 0   Hero|Publisher  463 non-null    object\n",
      " 1   Gender          463 non-null    object\n",
      " 2   Race            463 non-null    object\n",
      " 3   Alignment       463 non-null    object\n",
      " 4   Hair color      463 non-null    object\n",
      " 5   Eye color       463 non-null    object\n",
      " 6   Skin color      463 non-null    object\n",
      " 7   Measurements    463 non-null    object\n",
      " 8   hero_names      463 non-null    object\n",
      " 9   Publisher       463 non-null    object\n",
      " 10  Powers          463 non-null    object\n",
      "dtypes: object(11)\n",
      "memory usage: 43.4+ KB\n"
     ]
    }
   ],
   "source": [
    "merged_df.info()"
   ]
  },
  {
   "cell_type": "code",
   "execution_count": 44,
   "id": "6d7a2096",
   "metadata": {},
   "outputs": [],
   "source": [
    "merged_df.drop(columns=['Publisher'], inplace=True)"
   ]
  },
  {
   "cell_type": "code",
   "execution_count": 45,
   "id": "09097042",
   "metadata": {},
   "outputs": [],
   "source": [
    "# Split the \"Hero|Publisher\" column into \"Hero\" and \"Publisher\" columns\n",
    "merged_df[['Hero', 'Publisher']] = info_df['Hero|Publisher'].str.split('|', expand=True)"
   ]
  },
  {
   "cell_type": "code",
   "execution_count": 46,
   "id": "cdfc8ce6",
   "metadata": {},
   "outputs": [],
   "source": [
    "merged_df.drop(columns=['Hero|Publisher'], inplace=True)"
   ]
  },
  {
   "cell_type": "code",
   "execution_count": 49,
   "id": "451bf9b4",
   "metadata": {},
   "outputs": [],
   "source": [
    "# Use str.extract to extract Height and Weight as numeric values\n",
    "merged_df[['Height (numeric)', 'Weight (numeric)']] = merged_df['Measurements'].str.extract(r\"'Height': '(?P<Height_numeric>\\d+\\.\\d+) cm', 'Weight': '(?P<Weight_numeric>\\d+\\.\\d+) kg'\")"
   ]
  },
  {
   "cell_type": "code",
   "execution_count": 50,
   "id": "ad61597c",
   "metadata": {},
   "outputs": [],
   "source": [
    "# Convert the extracted columns to numeric\n",
    "merged_df['Height (numeric)'] = pd.to_numeric(merged_df['Height (numeric)'])\n",
    "merged_df['Weight (numeric)'] = pd.to_numeric(merged_df['Weight (numeric)'])"
   ]
  },
  {
   "cell_type": "code",
   "execution_count": 63,
   "id": "4f8c0a79",
   "metadata": {},
   "outputs": [],
   "source": [
    "merged_df.drop(columns=['Measurements'], inplace=True)\n",
    "merged_df.drop(columns=['Powers'], inplace=True)"
   ]
  },
  {
   "cell_type": "code",
   "execution_count": 72,
   "id": "2bd53b86",
   "metadata": {},
   "outputs": [
    {
     "name": "stdout",
     "output_type": "stream",
     "text": [
      "<class 'pandas.core.frame.DataFrame'>\n",
      "Int64Index: 463 entries, 0 to 462\n",
      "Data columns (total 11 columns):\n",
      " #   Column            Non-Null Count  Dtype  \n",
      "---  ------            --------------  -----  \n",
      " 0   Gender            463 non-null    object \n",
      " 1   Race              463 non-null    object \n",
      " 2   Alignment         463 non-null    object \n",
      " 3   Hair color        463 non-null    object \n",
      " 4   Eye color         463 non-null    object \n",
      " 5   Skin color        463 non-null    object \n",
      " 6   hero_names        463 non-null    object \n",
      " 7   Hero              463 non-null    object \n",
      " 8   Publisher         463 non-null    object \n",
      " 9   Height (numeric)  463 non-null    float64\n",
      " 10  Weight (numeric)  463 non-null    float64\n",
      "dtypes: float64(2), object(9)\n",
      "memory usage: 59.6+ KB\n"
     ]
    }
   ],
   "source": [
    "merged_df.info()"
   ]
  },
  {
   "cell_type": "code",
   "execution_count": 65,
   "id": "479950ee",
   "metadata": {},
   "outputs": [],
   "source": [
    "# Split the comma-separated powers into lists\n",
    "powers_df['Powers'] = powers_df['Powers'].str.split(',')"
   ]
  },
  {
   "cell_type": "code",
   "execution_count": 66,
   "id": "7bd65ae6",
   "metadata": {},
   "outputs": [],
   "source": [
    "# One-hot-encode the powers\n",
    "encoded_powers  = powers_df['Powers'].str.join('|').str.get_dummies()"
   ]
  },
  {
   "cell_type": "code",
   "execution_count": 68,
   "id": "a0353fdb",
   "metadata": {},
   "outputs": [],
   "source": [
    "# Concatenate the one-hot-encoded powers with the original DataFrame\n",
    "result_df = pd.concat([merged_df, encoded_powers], axis=1)"
   ]
  },
  {
   "cell_type": "code",
   "execution_count": 70,
   "id": "80ac1f7c",
   "metadata": {},
   "outputs": [
    {
     "name": "stdout",
     "output_type": "stream",
     "text": [
      "['Gender', 'Race', 'Alignment', 'Hair color', 'Eye color', 'Skin color', 'hero_names', 'Hero', 'Publisher', 'Height (numeric)', 'Weight (numeric)', 'Accelerated Healing', 'Adaptation', 'Agility', 'Animal Attributes', 'Animal Control', 'Animal Oriented Powers', 'Animation', 'Anti-Gravity', 'Astral Projection', 'Astral Travel', 'Audio Control', 'Banish', 'Biokinesis', 'Camouflage', 'Changing Armor', 'Clairvoyance', 'Cloaking', 'Cold Resistance', 'Cryokinesis', 'Danger Sense', 'Darkforce Manipulation', 'Death Touch', 'Density Control', 'Dexterity', 'Dimensional Awareness', 'Dimensional Travel', 'Duplication', 'Durability', 'Echolocation', 'Elasticity', 'Electrical Transport', 'Electrokinesis', 'Element Control', 'Elemental Transmogrification', 'Empathy', 'Energy Absorption', 'Energy Armor', 'Energy Beams', 'Energy Blasts', 'Energy Constructs', 'Energy Manipulation', 'Energy Resistance', 'Enhanced Hearing', 'Enhanced Memory', 'Enhanced Senses', 'Enhanced Sight', 'Enhanced Smell', 'Enhanced Touch', 'Fire Control', 'Fire Resistance', 'Flight', 'Force Fields', 'Gliding', 'Gravity Control', 'Grim Reaping', 'Hair Manipulation', 'Heat Generation', 'Heat Resistance', 'Hyperkinesis', 'Hypnokinesis', 'Illumination', 'Illusions', 'Immortality', 'Insanity', 'Intangibility', 'Intelligence', 'Intuitive aptitude', 'Invisibility', 'Invulnerability', 'Jump', 'Lantern Power Ring', 'Levitation', 'Light Control', 'Longevity', 'Magic', 'Magic Resistance', 'Magnetism', 'Marksmanship', 'Matter Absorption', 'Melting', 'Mind Blast', 'Mind Control', 'Mind Control Resistance', 'Molecular Combustion', 'Molecular Dissipation', 'Molecular Manipulation', 'Natural Armor', 'Natural Weapons', 'Nova Force', 'Odin Force', 'Omnilingualism', 'Omnipotent', 'Omnipresent', 'Omniscient', 'Omnitrix', 'Peak Human Condition', 'Phasing', 'Phoenix Force', 'Photographic Reflexes', 'Plant Control', 'Portal Creation', 'Possession', 'Power Absorption', 'Power Augmentation', 'Power Cosmic', 'Power Nullifier', 'Power Sense', 'Power Suit', 'Precognition', 'Probability Manipulation', 'Projection', 'Psionic Powers', 'Qwardian Power Ring', 'Radar Sense', 'Radiation Absorption', 'Radiation Control', 'Radiation Immunity', 'Reality Warping', 'Reflexes', 'Regeneration', 'Resurrection', 'Seismic Power', 'Self-Sustenance', 'Shapeshifting', 'Size Changing', 'Sonar', 'Sonic Scream', 'Spatial Awareness', 'Speed Force', 'Stamina', 'Stealth', 'Sub-Mariner', 'Substance Secretion', 'Summoning', 'Super Breath', 'Super Speed', 'Super Strength', 'Symbiote Costume', 'Technopath/Cyberpath', 'Telekinesis', 'Telepathy', 'Telepathy Resistance', 'Teleportation', 'Terrakinesis', 'The Force', 'Thirstokinesis', 'Time Manipulation', 'Time Travel', 'Toxin and Disease Control', 'Toxin and Disease Resistance', 'Underwater breathing', 'Vision - Cryo', 'Vision - Heat', 'Vision - Infrared', 'Vision - Microscopic', 'Vision - Night', 'Vision - Telescopic', 'Vision - Thermal', 'Vision - X-Ray', 'Vitakinesis', 'Wallcrawling', 'Water Control', 'Weapon-based Powers', 'Weapons Master', 'Weather Control', 'Web Creation', 'Wind Control']\n"
     ]
    }
   ],
   "source": [
    "print(result_df.columns.tolist())"
   ]
  },
  {
   "cell_type": "code",
   "execution_count": null,
   "id": "bbc7630d",
   "metadata": {},
   "outputs": [],
   "source": []
  }
 ],
 "metadata": {
  "kernelspec": {
   "display_name": "Python 3 (ipykernel)",
   "language": "python",
   "name": "python3"
  },
  "language_info": {
   "codemirror_mode": {
    "name": "ipython",
    "version": 3
   },
   "file_extension": ".py",
   "mimetype": "text/x-python",
   "name": "python",
   "nbconvert_exporter": "python",
   "pygments_lexer": "ipython3",
   "version": "3.10.10"
  }
 },
 "nbformat": 4,
 "nbformat_minor": 5
}

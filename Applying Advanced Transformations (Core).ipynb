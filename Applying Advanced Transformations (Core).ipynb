{
 "cells": [
  {
   "cell_type": "markdown",
   "id": "e4b8a51e",
   "metadata": {},
   "source": [
    "# Name: Uday Routhu"
   ]
  },
  {
   "cell_type": "markdown",
   "id": "756761cc",
   "metadata": {},
   "source": [
    "### Assginment: Applying Advanced Transformations (Core)"
   ]
  },
  {
   "cell_type": "markdown",
   "id": "deb1bc35",
   "metadata": {},
   "source": [
    "### Imports "
   ]
  },
  {
   "cell_type": "code",
   "execution_count": 54,
   "id": "c8cadce1",
   "metadata": {},
   "outputs": [],
   "source": [
    "## Standard Imports\n",
    "import numpy as np\n",
    "import pandas as pd\n",
    "import matplotlib.pyplot as plt\n",
    "import seaborn as sns\n",
    "## Importing the OS and JSON Modules\n",
    "import os,json"
   ]
  },
  {
   "cell_type": "code",
   "execution_count": 55,
   "id": "2a34d4ac",
   "metadata": {},
   "outputs": [],
   "source": [
    "# Load the superhero_info.csv and superhero_powers.csv files into DataFrames\n",
    "info_df = pd.read_csv('input/superhero_info - superhero_info.csv')\n",
    "powers_df = pd.read_csv('input/superhero_powers - superhero_powers.csv')"
   ]
  },
  {
   "cell_type": "markdown",
   "id": "42219bed",
   "metadata": {},
   "source": [
    "#### super_hero columns"
   ]
  },
  {
   "cell_type": "code",
   "execution_count": 56,
   "id": "b8d54de4",
   "metadata": {},
   "outputs": [
    {
     "name": "stdout",
     "output_type": "stream",
     "text": [
      "<class 'pandas.core.frame.DataFrame'>\n",
      "RangeIndex: 463 entries, 0 to 462\n",
      "Data columns (total 8 columns):\n",
      " #   Column          Non-Null Count  Dtype \n",
      "---  ------          --------------  ----- \n",
      " 0   Hero|Publisher  463 non-null    object\n",
      " 1   Gender          463 non-null    object\n",
      " 2   Race            463 non-null    object\n",
      " 3   Alignment       463 non-null    object\n",
      " 4   Hair color      463 non-null    object\n",
      " 5   Eye color       463 non-null    object\n",
      " 6   Skin color      463 non-null    object\n",
      " 7   Measurements    463 non-null    object\n",
      "dtypes: object(8)\n",
      "memory usage: 29.1+ KB\n"
     ]
    }
   ],
   "source": [
    "info_df.info()"
   ]
  },
  {
   "cell_type": "markdown",
   "id": "be154831",
   "metadata": {},
   "source": [
    "#### super hero powers columns"
   ]
  },
  {
   "cell_type": "code",
   "execution_count": 57,
   "id": "25abf887",
   "metadata": {},
   "outputs": [
    {
     "name": "stdout",
     "output_type": "stream",
     "text": [
      "<class 'pandas.core.frame.DataFrame'>\n",
      "RangeIndex: 667 entries, 0 to 666\n",
      "Data columns (total 2 columns):\n",
      " #   Column      Non-Null Count  Dtype \n",
      "---  ------      --------------  ----- \n",
      " 0   hero_names  667 non-null    object\n",
      " 1   Powers      667 non-null    object\n",
      "dtypes: object(2)\n",
      "memory usage: 10.5+ KB\n"
     ]
    }
   ],
   "source": [
    "powers_df.info()"
   ]
  },
  {
   "cell_type": "code",
   "execution_count": 58,
   "id": "9bcaa7ec",
   "metadata": {},
   "outputs": [
    {
     "data": {
      "text/html": [
       "<div>\n",
       "<style scoped>\n",
       "    .dataframe tbody tr th:only-of-type {\n",
       "        vertical-align: middle;\n",
       "    }\n",
       "\n",
       "    .dataframe tbody tr th {\n",
       "        vertical-align: top;\n",
       "    }\n",
       "\n",
       "    .dataframe thead th {\n",
       "        text-align: right;\n",
       "    }\n",
       "</style>\n",
       "<table border=\"1\" class=\"dataframe\">\n",
       "  <thead>\n",
       "    <tr style=\"text-align: right;\">\n",
       "      <th></th>\n",
       "      <th>Hero|Publisher</th>\n",
       "      <th>Gender</th>\n",
       "      <th>Race</th>\n",
       "      <th>Alignment</th>\n",
       "      <th>Hair color</th>\n",
       "      <th>Eye color</th>\n",
       "      <th>Skin color</th>\n",
       "      <th>Measurements</th>\n",
       "    </tr>\n",
       "  </thead>\n",
       "  <tbody>\n",
       "    <tr>\n",
       "      <th>0</th>\n",
       "      <td>A-Bomb|Marvel Comics</td>\n",
       "      <td>Male</td>\n",
       "      <td>Human</td>\n",
       "      <td>good</td>\n",
       "      <td>No Hair</td>\n",
       "      <td>yellow</td>\n",
       "      <td>Unknown</td>\n",
       "      <td>{'Height': '203.0 cm', 'Weight': '441.0 kg'}</td>\n",
       "    </tr>\n",
       "    <tr>\n",
       "      <th>1</th>\n",
       "      <td>Abe Sapien|Dark Horse Comics</td>\n",
       "      <td>Male</td>\n",
       "      <td>Icthyo Sapien</td>\n",
       "      <td>good</td>\n",
       "      <td>No Hair</td>\n",
       "      <td>blue</td>\n",
       "      <td>blue</td>\n",
       "      <td>{'Height': '191.0 cm', 'Weight': '65.0 kg'}</td>\n",
       "    </tr>\n",
       "    <tr>\n",
       "      <th>2</th>\n",
       "      <td>Abin Sur|DC Comics</td>\n",
       "      <td>Male</td>\n",
       "      <td>Ungaran</td>\n",
       "      <td>good</td>\n",
       "      <td>No Hair</td>\n",
       "      <td>blue</td>\n",
       "      <td>red</td>\n",
       "      <td>{'Height': '185.0 cm', 'Weight': '90.0 kg'}</td>\n",
       "    </tr>\n",
       "    <tr>\n",
       "      <th>3</th>\n",
       "      <td>Abomination|Marvel Comics</td>\n",
       "      <td>Male</td>\n",
       "      <td>Human / Radiation</td>\n",
       "      <td>bad</td>\n",
       "      <td>No Hair</td>\n",
       "      <td>green</td>\n",
       "      <td>Unknown</td>\n",
       "      <td>{'Height': '203.0 cm', 'Weight': '441.0 kg'}</td>\n",
       "    </tr>\n",
       "    <tr>\n",
       "      <th>4</th>\n",
       "      <td>Absorbing Man|Marvel Comics</td>\n",
       "      <td>Male</td>\n",
       "      <td>Human</td>\n",
       "      <td>bad</td>\n",
       "      <td>No Hair</td>\n",
       "      <td>blue</td>\n",
       "      <td>Unknown</td>\n",
       "      <td>{'Height': '193.0 cm', 'Weight': '122.0 kg'}</td>\n",
       "    </tr>\n",
       "  </tbody>\n",
       "</table>\n",
       "</div>"
      ],
      "text/plain": [
       "                 Hero|Publisher Gender               Race Alignment  \\\n",
       "0          A-Bomb|Marvel Comics   Male              Human      good   \n",
       "1  Abe Sapien|Dark Horse Comics   Male      Icthyo Sapien      good   \n",
       "2            Abin Sur|DC Comics   Male            Ungaran      good   \n",
       "3     Abomination|Marvel Comics   Male  Human / Radiation       bad   \n",
       "4   Absorbing Man|Marvel Comics   Male              Human       bad   \n",
       "\n",
       "  Hair color Eye color Skin color  \\\n",
       "0    No Hair    yellow    Unknown   \n",
       "1    No Hair      blue       blue   \n",
       "2    No Hair      blue        red   \n",
       "3    No Hair     green    Unknown   \n",
       "4    No Hair      blue    Unknown   \n",
       "\n",
       "                                   Measurements  \n",
       "0  {'Height': '203.0 cm', 'Weight': '441.0 kg'}  \n",
       "1   {'Height': '191.0 cm', 'Weight': '65.0 kg'}  \n",
       "2   {'Height': '185.0 cm', 'Weight': '90.0 kg'}  \n",
       "3  {'Height': '203.0 cm', 'Weight': '441.0 kg'}  \n",
       "4  {'Height': '193.0 cm', 'Weight': '122.0 kg'}  "
      ]
     },
     "execution_count": 58,
     "metadata": {},
     "output_type": "execute_result"
    }
   ],
   "source": [
    "info_df.head()"
   ]
  },
  {
   "cell_type": "code",
   "execution_count": 59,
   "id": "80d56db0",
   "metadata": {},
   "outputs": [
    {
     "data": {
      "text/html": [
       "<div>\n",
       "<style scoped>\n",
       "    .dataframe tbody tr th:only-of-type {\n",
       "        vertical-align: middle;\n",
       "    }\n",
       "\n",
       "    .dataframe tbody tr th {\n",
       "        vertical-align: top;\n",
       "    }\n",
       "\n",
       "    .dataframe thead th {\n",
       "        text-align: right;\n",
       "    }\n",
       "</style>\n",
       "<table border=\"1\" class=\"dataframe\">\n",
       "  <thead>\n",
       "    <tr style=\"text-align: right;\">\n",
       "      <th></th>\n",
       "      <th>hero_names</th>\n",
       "      <th>Powers</th>\n",
       "    </tr>\n",
       "  </thead>\n",
       "  <tbody>\n",
       "    <tr>\n",
       "      <th>0</th>\n",
       "      <td>3-D Man</td>\n",
       "      <td>Agility,Super Strength,Stamina,Super Speed</td>\n",
       "    </tr>\n",
       "    <tr>\n",
       "      <th>1</th>\n",
       "      <td>A-Bomb</td>\n",
       "      <td>Accelerated Healing,Durability,Longevity,Super...</td>\n",
       "    </tr>\n",
       "    <tr>\n",
       "      <th>2</th>\n",
       "      <td>Abe Sapien</td>\n",
       "      <td>Agility,Accelerated Healing,Cold Resistance,Du...</td>\n",
       "    </tr>\n",
       "    <tr>\n",
       "      <th>3</th>\n",
       "      <td>Abin Sur</td>\n",
       "      <td>Lantern Power Ring</td>\n",
       "    </tr>\n",
       "    <tr>\n",
       "      <th>4</th>\n",
       "      <td>Abomination</td>\n",
       "      <td>Accelerated Healing,Intelligence,Super Strengt...</td>\n",
       "    </tr>\n",
       "  </tbody>\n",
       "</table>\n",
       "</div>"
      ],
      "text/plain": [
       "    hero_names                                             Powers\n",
       "0      3-D Man         Agility,Super Strength,Stamina,Super Speed\n",
       "1       A-Bomb  Accelerated Healing,Durability,Longevity,Super...\n",
       "2   Abe Sapien  Agility,Accelerated Healing,Cold Resistance,Du...\n",
       "3     Abin Sur                                 Lantern Power Ring\n",
       "4  Abomination  Accelerated Healing,Intelligence,Super Strengt..."
      ]
     },
     "execution_count": 59,
     "metadata": {},
     "output_type": "execute_result"
    }
   ],
   "source": [
    "powers_df.head()"
   ]
  },
  {
   "cell_type": "markdown",
   "id": "4c6bcc20",
   "metadata": {},
   "source": [
    "#### Devide Hero, Publisher column to make join for two data frames "
   ]
  },
  {
   "cell_type": "code",
   "execution_count": 60,
   "id": "d7534def",
   "metadata": {},
   "outputs": [],
   "source": [
    "# Split the \"Hero|Publisher\" column into \"Hero\" and \"Publisher\" columns\n",
    "info_df[['Hero', 'Publisher']] = info_df['Hero|Publisher'].str.split('|', expand=True)"
   ]
  },
  {
   "cell_type": "code",
   "execution_count": 61,
   "id": "25f0d152",
   "metadata": {},
   "outputs": [],
   "source": [
    "#info_df doesn't has her0_names column so rename Hero to hero_name\n",
    "info_df.rename(columns={'Hero': 'hero_names'}, inplace=True)"
   ]
  },
  {
   "cell_type": "code",
   "execution_count": 62,
   "id": "dd912a7b",
   "metadata": {},
   "outputs": [],
   "source": [
    "# Merge the DataFrames on the 'Name' column to combine the information\n",
    "merged_df = info_df.merge(powers_df, on='hero_names', how='left')"
   ]
  },
  {
   "cell_type": "markdown",
   "id": "98365672",
   "metadata": {},
   "source": [
    "#### I'm just removing publisher to avoid duplicate "
   ]
  },
  {
   "cell_type": "code",
   "execution_count": 63,
   "id": "6d7a2096",
   "metadata": {},
   "outputs": [],
   "source": [
    "merged_df.drop(columns=['Publisher'], inplace=True)"
   ]
  },
  {
   "cell_type": "code",
   "execution_count": 64,
   "id": "09097042",
   "metadata": {},
   "outputs": [],
   "source": [
    "# Split the \"Hero|Publisher\" column into \"Hero\" and \"Publisher\" columns\n",
    "merged_df[['Hero', 'Publisher']] = info_df['Hero|Publisher'].str.split('|', expand=True)"
   ]
  },
  {
   "cell_type": "code",
   "execution_count": 65,
   "id": "cdfc8ce6",
   "metadata": {},
   "outputs": [],
   "source": [
    "merged_df.drop(columns=['Hero|Publisher'], inplace=True)"
   ]
  },
  {
   "cell_type": "code",
   "execution_count": 66,
   "id": "451bf9b4",
   "metadata": {},
   "outputs": [],
   "source": [
    "# Use str.extract to extract Height and Weight as numeric values\n",
    "merged_df[['Height (numeric)', 'Weight (numeric)']] = merged_df['Measurements'].str.extract(r\"'Height': '(?P<Height_numeric>\\d+\\.\\d+) cm', 'Weight': '(?P<Weight_numeric>\\d+\\.\\d+) kg'\")"
   ]
  },
  {
   "cell_type": "code",
   "execution_count": 67,
   "id": "ad61597c",
   "metadata": {},
   "outputs": [],
   "source": [
    "# Convert the extracted columns to numeric\n",
    "merged_df['Height (numeric)'] = pd.to_numeric(merged_df['Height (numeric)'])\n",
    "merged_df['Weight (numeric)'] = pd.to_numeric(merged_df['Weight (numeric)'])"
   ]
  },
  {
   "cell_type": "markdown",
   "id": "cc706236",
   "metadata": {},
   "source": [
    "### Removing unwanted column from combined data frame "
   ]
  },
  {
   "cell_type": "code",
   "execution_count": 68,
   "id": "4f8c0a79",
   "metadata": {},
   "outputs": [],
   "source": [
    "# I don't need these columns, so removing it \n",
    "merged_df.drop(columns=['Measurements'], inplace=True)\n",
    "merged_df.drop(columns=['Powers'], inplace=True)\n",
    "merged_df.drop(columns=['hero_names'], inplace=True)"
   ]
  },
  {
   "cell_type": "code",
   "execution_count": 69,
   "id": "2bd53b86",
   "metadata": {},
   "outputs": [
    {
     "name": "stdout",
     "output_type": "stream",
     "text": [
      "<class 'pandas.core.frame.DataFrame'>\n",
      "Int64Index: 463 entries, 0 to 462\n",
      "Data columns (total 10 columns):\n",
      " #   Column            Non-Null Count  Dtype  \n",
      "---  ------            --------------  -----  \n",
      " 0   Gender            463 non-null    object \n",
      " 1   Race              463 non-null    object \n",
      " 2   Alignment         463 non-null    object \n",
      " 3   Hair color        463 non-null    object \n",
      " 4   Eye color         463 non-null    object \n",
      " 5   Skin color        463 non-null    object \n",
      " 6   Hero              463 non-null    object \n",
      " 7   Publisher         463 non-null    object \n",
      " 8   Height (numeric)  463 non-null    float64\n",
      " 9   Weight (numeric)  463 non-null    float64\n",
      "dtypes: float64(2), object(8)\n",
      "memory usage: 39.8+ KB\n"
     ]
    }
   ],
   "source": [
    "merged_df.info()"
   ]
  },
  {
   "cell_type": "code",
   "execution_count": 70,
   "id": "479950ee",
   "metadata": {},
   "outputs": [],
   "source": [
    "# Split the comma-separated powers into lists\n",
    "powers_df['Powers'] = powers_df['Powers'].str.split(',')"
   ]
  },
  {
   "cell_type": "code",
   "execution_count": 71,
   "id": "7bd65ae6",
   "metadata": {},
   "outputs": [],
   "source": [
    "# One-hot-encode the powers\n",
    "encoded_powers  = powers_df['Powers'].str.join('|').str.get_dummies()"
   ]
  },
  {
   "cell_type": "code",
   "execution_count": 72,
   "id": "a0353fdb",
   "metadata": {},
   "outputs": [],
   "source": [
    "# Concatenate the one-hot-encoded powers with the original DataFrame\n",
    "result_df = pd.concat([merged_df, encoded_powers], axis=1)"
   ]
  },
  {
   "cell_type": "code",
   "execution_count": 73,
   "id": "75ca73c1",
   "metadata": {},
   "outputs": [
    {
     "data": {
      "text/html": [
       "<div>\n",
       "<style scoped>\n",
       "    .dataframe tbody tr th:only-of-type {\n",
       "        vertical-align: middle;\n",
       "    }\n",
       "\n",
       "    .dataframe tbody tr th {\n",
       "        vertical-align: top;\n",
       "    }\n",
       "\n",
       "    .dataframe thead th {\n",
       "        text-align: right;\n",
       "    }\n",
       "</style>\n",
       "<table border=\"1\" class=\"dataframe\">\n",
       "  <thead>\n",
       "    <tr style=\"text-align: right;\">\n",
       "      <th></th>\n",
       "      <th>Gender</th>\n",
       "      <th>Race</th>\n",
       "      <th>Alignment</th>\n",
       "      <th>Hair color</th>\n",
       "      <th>Eye color</th>\n",
       "      <th>Skin color</th>\n",
       "      <th>Hero</th>\n",
       "      <th>Publisher</th>\n",
       "      <th>Height (numeric)</th>\n",
       "      <th>Weight (numeric)</th>\n",
       "      <th>...</th>\n",
       "      <th>Vision - Thermal</th>\n",
       "      <th>Vision - X-Ray</th>\n",
       "      <th>Vitakinesis</th>\n",
       "      <th>Wallcrawling</th>\n",
       "      <th>Water Control</th>\n",
       "      <th>Weapon-based Powers</th>\n",
       "      <th>Weapons Master</th>\n",
       "      <th>Weather Control</th>\n",
       "      <th>Web Creation</th>\n",
       "      <th>Wind Control</th>\n",
       "    </tr>\n",
       "  </thead>\n",
       "  <tbody>\n",
       "    <tr>\n",
       "      <th>0</th>\n",
       "      <td>Male</td>\n",
       "      <td>Human</td>\n",
       "      <td>good</td>\n",
       "      <td>No Hair</td>\n",
       "      <td>yellow</td>\n",
       "      <td>Unknown</td>\n",
       "      <td>A-Bomb</td>\n",
       "      <td>Marvel Comics</td>\n",
       "      <td>203.0</td>\n",
       "      <td>441.0</td>\n",
       "      <td>...</td>\n",
       "      <td>0</td>\n",
       "      <td>0</td>\n",
       "      <td>0</td>\n",
       "      <td>0</td>\n",
       "      <td>0</td>\n",
       "      <td>0</td>\n",
       "      <td>0</td>\n",
       "      <td>0</td>\n",
       "      <td>0</td>\n",
       "      <td>0</td>\n",
       "    </tr>\n",
       "    <tr>\n",
       "      <th>1</th>\n",
       "      <td>Male</td>\n",
       "      <td>Icthyo Sapien</td>\n",
       "      <td>good</td>\n",
       "      <td>No Hair</td>\n",
       "      <td>blue</td>\n",
       "      <td>blue</td>\n",
       "      <td>Abe Sapien</td>\n",
       "      <td>Dark Horse Comics</td>\n",
       "      <td>191.0</td>\n",
       "      <td>65.0</td>\n",
       "      <td>...</td>\n",
       "      <td>0</td>\n",
       "      <td>0</td>\n",
       "      <td>0</td>\n",
       "      <td>0</td>\n",
       "      <td>0</td>\n",
       "      <td>0</td>\n",
       "      <td>0</td>\n",
       "      <td>0</td>\n",
       "      <td>0</td>\n",
       "      <td>0</td>\n",
       "    </tr>\n",
       "    <tr>\n",
       "      <th>2</th>\n",
       "      <td>Male</td>\n",
       "      <td>Ungaran</td>\n",
       "      <td>good</td>\n",
       "      <td>No Hair</td>\n",
       "      <td>blue</td>\n",
       "      <td>red</td>\n",
       "      <td>Abin Sur</td>\n",
       "      <td>DC Comics</td>\n",
       "      <td>185.0</td>\n",
       "      <td>90.0</td>\n",
       "      <td>...</td>\n",
       "      <td>0</td>\n",
       "      <td>0</td>\n",
       "      <td>0</td>\n",
       "      <td>0</td>\n",
       "      <td>0</td>\n",
       "      <td>0</td>\n",
       "      <td>1</td>\n",
       "      <td>0</td>\n",
       "      <td>0</td>\n",
       "      <td>0</td>\n",
       "    </tr>\n",
       "    <tr>\n",
       "      <th>3</th>\n",
       "      <td>Male</td>\n",
       "      <td>Human / Radiation</td>\n",
       "      <td>bad</td>\n",
       "      <td>No Hair</td>\n",
       "      <td>green</td>\n",
       "      <td>Unknown</td>\n",
       "      <td>Abomination</td>\n",
       "      <td>Marvel Comics</td>\n",
       "      <td>203.0</td>\n",
       "      <td>441.0</td>\n",
       "      <td>...</td>\n",
       "      <td>0</td>\n",
       "      <td>0</td>\n",
       "      <td>0</td>\n",
       "      <td>0</td>\n",
       "      <td>0</td>\n",
       "      <td>0</td>\n",
       "      <td>0</td>\n",
       "      <td>0</td>\n",
       "      <td>0</td>\n",
       "      <td>0</td>\n",
       "    </tr>\n",
       "    <tr>\n",
       "      <th>4</th>\n",
       "      <td>Male</td>\n",
       "      <td>Human</td>\n",
       "      <td>bad</td>\n",
       "      <td>No Hair</td>\n",
       "      <td>blue</td>\n",
       "      <td>Unknown</td>\n",
       "      <td>Absorbing Man</td>\n",
       "      <td>Marvel Comics</td>\n",
       "      <td>193.0</td>\n",
       "      <td>122.0</td>\n",
       "      <td>...</td>\n",
       "      <td>0</td>\n",
       "      <td>0</td>\n",
       "      <td>0</td>\n",
       "      <td>0</td>\n",
       "      <td>0</td>\n",
       "      <td>0</td>\n",
       "      <td>0</td>\n",
       "      <td>0</td>\n",
       "      <td>0</td>\n",
       "      <td>0</td>\n",
       "    </tr>\n",
       "  </tbody>\n",
       "</table>\n",
       "<p>5 rows × 177 columns</p>\n",
       "</div>"
      ],
      "text/plain": [
       "  Gender               Race Alignment Hair color Eye color Skin color  \\\n",
       "0   Male              Human      good    No Hair    yellow    Unknown   \n",
       "1   Male      Icthyo Sapien      good    No Hair      blue       blue   \n",
       "2   Male            Ungaran      good    No Hair      blue        red   \n",
       "3   Male  Human / Radiation       bad    No Hair     green    Unknown   \n",
       "4   Male              Human       bad    No Hair      blue    Unknown   \n",
       "\n",
       "            Hero          Publisher  Height (numeric)  Weight (numeric)  ...  \\\n",
       "0         A-Bomb      Marvel Comics             203.0             441.0  ...   \n",
       "1     Abe Sapien  Dark Horse Comics             191.0              65.0  ...   \n",
       "2       Abin Sur          DC Comics             185.0              90.0  ...   \n",
       "3    Abomination      Marvel Comics             203.0             441.0  ...   \n",
       "4  Absorbing Man      Marvel Comics             193.0             122.0  ...   \n",
       "\n",
       "   Vision - Thermal  Vision - X-Ray  Vitakinesis  Wallcrawling  Water Control  \\\n",
       "0                 0               0            0             0              0   \n",
       "1                 0               0            0             0              0   \n",
       "2                 0               0            0             0              0   \n",
       "3                 0               0            0             0              0   \n",
       "4                 0               0            0             0              0   \n",
       "\n",
       "   Weapon-based Powers  Weapons Master  Weather Control  Web Creation  \\\n",
       "0                    0               0                0             0   \n",
       "1                    0               0                0             0   \n",
       "2                    0               1                0             0   \n",
       "3                    0               0                0             0   \n",
       "4                    0               0                0             0   \n",
       "\n",
       "   Wind Control  \n",
       "0             0  \n",
       "1             0  \n",
       "2             0  \n",
       "3             0  \n",
       "4             0  \n",
       "\n",
       "[5 rows x 177 columns]"
      ]
     },
     "execution_count": 73,
     "metadata": {},
     "output_type": "execute_result"
    }
   ],
   "source": [
    "result_df.head()"
   ]
  },
  {
   "cell_type": "markdown",
   "id": "5faac947",
   "metadata": {},
   "source": [
    "#### II. Use your combined DataFrame to answer the following questions."
   ]
  },
  {
   "cell_type": "markdown",
   "id": "2165c308",
   "metadata": {},
   "source": [
    "#### Compare the average weight of super powers who have Super Speed to those who do not."
   ]
  },
  {
   "cell_type": "code",
   "execution_count": 74,
   "id": "66803155",
   "metadata": {},
   "outputs": [
    {
     "name": "stdout",
     "output_type": "stream",
     "text": [
      "Average weight of heroes with Super Speed: 113.39181286549707\n",
      "Average weight of heroes without Super Speed: 113.70547945205479\n"
     ]
    }
   ],
   "source": [
    "# Filter heroes with and without Super Speed\n",
    "super_speed_heroes = result_df[result_df['Super Speed'] == 1]\n",
    "non_super_speed_heroes = result_df[result_df['Super Speed'] == 0]\n",
    "\n",
    "# Calculate the average weight for each subset\n",
    "avg_weight_super_speed = super_speed_heroes['Weight (numeric)'].mean()\n",
    "avg_weight_non_super_speed = non_super_speed_heroes['Weight (numeric)'].mean()\n",
    "\n",
    "# Compare the averages\n",
    "print(\"Average weight of heroes with Super Speed:\", avg_weight_super_speed)\n",
    "print(\"Average weight of heroes without Super Speed:\", avg_weight_non_super_speed)\n"
   ]
  },
  {
   "cell_type": "markdown",
   "id": "a97c64e8",
   "metadata": {},
   "source": [
    "#### What is the average height of heroes for each publisher?"
   ]
  },
  {
   "cell_type": "code",
   "execution_count": 75,
   "id": "c71f5800",
   "metadata": {},
   "outputs": [],
   "source": [
    "# Group by 'Publisher' and calculate the average height\n",
    "avg_height_by_publisher = result_df.groupby('Publisher')['Height (numeric)'].mean()"
   ]
  },
  {
   "cell_type": "code",
   "execution_count": 76,
   "id": "5910adf6",
   "metadata": {},
   "outputs": [
    {
     "name": "stdout",
     "output_type": "stream",
     "text": [
      "Publisher\n",
      "DC Comics            181.923913\n",
      "Dark Horse Comics    176.909091\n",
      "George Lucas         159.600000\n",
      "Image Comics         211.000000\n",
      "Marvel Comics        191.546128\n",
      "Shueisha             171.500000\n",
      "Star Trek            181.500000\n",
      "Team Epic TV         180.750000\n",
      "Unknown              178.000000\n",
      "Name: Height (numeric), dtype: float64\n"
     ]
    }
   ],
   "source": [
    "# Print the result\n",
    "print(avg_height_by_publisher)"
   ]
  },
  {
   "cell_type": "code",
   "execution_count": null,
   "id": "05e156d4",
   "metadata": {},
   "outputs": [],
   "source": []
  }
 ],
 "metadata": {
  "kernelspec": {
   "display_name": "Python 3 (ipykernel)",
   "language": "python",
   "name": "python3"
  },
  "language_info": {
   "codemirror_mode": {
    "name": "ipython",
    "version": 3
   },
   "file_extension": ".py",
   "mimetype": "text/x-python",
   "name": "python",
   "nbconvert_exporter": "python",
   "pygments_lexer": "ipython3",
   "version": "3.10.10"
  }
 },
 "nbformat": 4,
 "nbformat_minor": 5
}
